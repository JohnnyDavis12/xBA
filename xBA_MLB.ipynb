{
 "cells": [
  {
   "cell_type": "code",
   "execution_count": 354,
   "metadata": {},
   "outputs": [],
   "source": [
    "#importing libraries\n",
    "import pandas as pd\n",
    "import pickle\n",
    "from pandas import DataFrame, Series\n",
    "from sklearn.ensemble import RandomForestClassifier,RandomForestRegressor\n",
    "import numpy as np\n",
    "import seaborn as sns\n",
    "import statsmodels.api as sm\n",
    "from sklearn import linear_model, naive_bayes\n",
    "from sklearn.datasets import make_regression\n",
    "from sklearn.model_selection import train_test_split, cross_val_score\n",
    "from sklearn import svm\n",
    "from statsmodels.stats.outliers_influence import variance_inflation_factor\n",
    "import matplotlib.pyplot as plt\n",
    "from matplotlib import style \n",
    "from sklearn.metrics import mean_squared_error,r2_score\n",
    "import pybaseball as pyb\n",
    "from pybaseball import statcast\n",
    "import xgboost as xgb\n",
    "from xgboost import XGBRegressor, XGBClassifier "
   ]
  },
  {
   "cell_type": "code",
   "execution_count": null,
   "metadata": {},
   "outputs": [],
   "source": [
    "df = pd.read_csv(\"/Users/johndavis/Desktop/Statcast_Data.csv\",low_memory=False)"
   ]
  },
  {
   "cell_type": "code",
   "execution_count": null,
   "metadata": {},
   "outputs": [],
   "source": [
    "#delete Unnamed: 0 column\n",
    "df = df.drop(['Unnamed: 0'], axis=1)"
   ]
  },
  {
   "cell_type": "code",
   "execution_count": null,
   "metadata": {},
   "outputs": [],
   "source": [
    "#create the features\n",
    "X = df[[\"launch_speed\",\"launch_angle\"]]\n",
    "y = df[\"Hit?\"]"
   ]
  },
  {
   "cell_type": "code",
   "execution_count": null,
   "metadata": {},
   "outputs": [],
   "source": [
    "train_test_split(X,y,test_size=0.2)\n",
    "X_train, X_test, y_train, y_test = train_test_split(X, y)"
   ]
  },
  {
   "cell_type": "code",
   "execution_count": null,
   "metadata": {},
   "outputs": [],
   "source": [
    "#random forest classifier\n",
    "rfc_model = RandomForestClassifier(n_estimators=100, max_depth=2,random_state=0)\n",
    "rfc_model.fit(X_train,y_train)\n",
    "rfc_model.score(X_test,y_test)"
   ]
  },
  {
   "cell_type": "code",
   "execution_count": null,
   "metadata": {},
   "outputs": [],
   "source": [
    "#xg boost classifier\n",
    "xgb_model = XGBClassifier()\n",
    "xgb_model.fit(X_train,y_train)\n",
    "xgb_model.score(X_test,y_test)\n"
   ]
  },
  {
   "cell_type": "code",
   "execution_count": null,
   "metadata": {},
   "outputs": [],
   "source": [
    "df['xgb_pred'] = xgb_model.predict(X)"
   ]
  },
  {
   "cell_type": "code",
   "execution_count": null,
   "metadata": {},
   "outputs": [],
   "source": [
    "df = df[['Name','launch_speed','launch_angle','hit_distance_sc','Hit?','xgb_pred']]"
   ]
  },
  {
   "cell_type": "code",
   "execution_count": null,
   "metadata": {},
   "outputs": [],
   "source": [
    "#ask the user for launch speed and launch angle and predict if the ball will be a hit or not\n",
    "launch_speed = float(input(\"Enter the launch speed: \"))\n",
    "launch_angle = float(input(\"Enter the launch angle: \"))\n",
    "x = np.array([launch_speed,launch_angle]).reshape(1,-1)\n",
    "print(' ')\n",
    "print('Hello there, I am an AI bot that predicts if a ball will be a hit or not.')\n",
    "print(' ')\n",
    "print('With a exit velocity of',launch_speed,'MPH and a launch angle of',launch_angle,'degrees')\n",
    "if xgb_model.predict(x) == 1:\n",
    "    print(' ')\n",
    "    print(\"The ball will likely be a hit\")\n",
    "else:\n",
    "    print (' ')\n",
    "    print(\"The ball will likely not be a hit\")\n"
   ]
  },
  {
   "cell_type": "code",
   "execution_count": null,
   "metadata": {},
   "outputs": [],
   "source": [
    "\n",
    "df = df[df.groupby('Name')['Name'].transform('size') > 100]\n",
    "df2 = df.groupby('Name').mean()\n"
   ]
  },
  {
   "cell_type": "code",
   "execution_count": null,
   "metadata": {},
   "outputs": [],
   "source": [
    "df2 = df2[['launch_speed','launch_angle']]\n",
    "df2.head()"
   ]
  },
  {
   "cell_type": "code",
   "execution_count": null,
   "metadata": {},
   "outputs": [],
   "source": [
    "#2 decimal places\n",
    "df2 = df2.round(2)"
   ]
  },
  {
   "cell_type": "code",
   "execution_count": null,
   "metadata": {},
   "outputs": [],
   "source": [
    "\n",
    "df2 = df2.sort_values(by=['launch_speed'],ascending=False)\n"
   ]
  },
  {
   "cell_type": "code",
   "execution_count": null,
   "metadata": {},
   "outputs": [],
   "source": [
    "#change the name of launch speed to exit velocity and launch angle to launch angle\n",
    "df2 = df2.rename(columns={'launch_speed':'Exit Velocity','launch_angle':'Launch Angle'})"
   ]
  },
  {
   "cell_type": "code",
   "execution_count": null,
   "metadata": {},
   "outputs": [],
   "source": [
    "g = sns.heatmap(df2.head(10)[['Exit Velocity','Launch Angle']], annot=True, annot_kws={'size': 12},fmt=\".2f\",vmin=90, vmax=100, cmap='hot')\n",
    "g.set_title('Exit Velocity and Launch Angle by Player', fontsize=20)\n",
    "plt.show()\n",
    "\n"
   ]
  },
  {
   "cell_type": "code",
   "execution_count": null,
   "metadata": {},
   "outputs": [],
   "source": [
    "g =sns.heatmap(dfb_avg.head(10)[['Stuff_plus', 'Velocity','ERA']], annot=True, annot_kws={'size': 12},fmt=\".2f\",vmin=120, vmax=180)\n",
    "g.set_yticklabels(dfb_avg['Pitcher'].head(10), rotation=0)\n",
    "plt.title('Top 10 Fastball Pitchers by Stuff+ ')\n",
    "plt.ylabel('Pitcher')\n",
    "plt.show()"
   ]
  }
 ],
 "metadata": {
  "kernelspec": {
   "display_name": "Python 3.9.13 ('base')",
   "language": "python",
   "name": "python3"
  },
  "language_info": {
   "codemirror_mode": {
    "name": "ipython",
    "version": 3
   },
   "file_extension": ".py",
   "mimetype": "text/x-python",
   "name": "python",
   "nbconvert_exporter": "python",
   "pygments_lexer": "ipython3",
   "version": "3.9.13"
  },
  "orig_nbformat": 4,
  "vscode": {
   "interpreter": {
    "hash": "ece8b02e9fc008d2bf4aaa30f9b06cdaffafe92b71d54bfc844a320ee0701ab8"
   }
  }
 },
 "nbformat": 4,
 "nbformat_minor": 2
}
